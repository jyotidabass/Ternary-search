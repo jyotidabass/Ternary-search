{
  "nbformat": 4,
  "nbformat_minor": 0,
  "metadata": {
    "colab": {
      "provenance": [],
      "authorship_tag": "ABX9TyOZIZOdiNT8CPZFRJIWTB87",
      "include_colab_link": true
    },
    "kernelspec": {
      "name": "python3",
      "display_name": "Python 3"
    },
    "language_info": {
      "name": "python"
    }
  },
  "cells": [
    {
      "cell_type": "markdown",
      "metadata": {
        "id": "view-in-github",
        "colab_type": "text"
      },
      "source": [
        "<a href=\"https://colab.research.google.com/github/jyotidabass/Ternary-search/blob/main/Ternary_search.ipynb\" target=\"_parent\"><img src=\"https://colab.research.google.com/assets/colab-badge.svg\" alt=\"Open In Colab\"/></a>"
      ]
    },
    {
      "cell_type": "markdown",
      "source": [
        "# **Here's a simple Python implementation of ternary search.**\n",
        "\n",
        "This implementation takes in four arguments: the sorted array arr, the left index l, the right index r, and the value to be searched for x. The function returns the index of the found element or -1 if the element is not present in the array."
      ],
      "metadata": {
        "id": "8AF2tuh_Zg-k"
      }
    },
    {
      "cell_type": "code",
      "execution_count": 1,
      "metadata": {
        "id": "ALuoeEqcZTjr"
      },
      "outputs": [],
      "source": [
        "def ternary_search(arr, l, r, x):\n",
        "    while l <= r:\n",
        "        mid1 = l + (r - l) // 3\n",
        "        mid2 = r - (r - l + 1) // 3\n",
        "\n",
        "        if arr[mid1] == x:\n",
        "            return mid1\n",
        "        elif arr[mid2] == x:\n",
        "            return mid2\n",
        "\n",
        "        if arr[mid1] < x < arr[mid2]:\n",
        "            l = mid1 + 1\n",
        "            r = mid2 - 1\n",
        "        else:\n",
        "            if arr[mid1] > x:\n",
        "                r = mid1 - 1\n",
        "            else:\n",
        "                l = mid2 + 1\n",
        "\n",
        "    return -1"
      ]
    },
    {
      "cell_type": "markdown",
      "source": [
        "# **You can test the function with the following code:**\n",
        "\n",
        "This code will search for the element 14 in the given array and print whether it was found or not. You can modify the value of x to test the function with different search values."
      ],
      "metadata": {
        "id": "_oyECaXVZtVL"
      }
    },
    {
      "cell_type": "code",
      "source": [
        "arr = [1, 4, 6, 7, 9, 10, 13, 14, 16, 19, 21, 23, 25, 27, 29]\n",
        "\n",
        "x = 14\n",
        "result = ternary_search(arr, 0, len(arr) - 1, x)\n",
        "if result != -1:\n",
        "    print(f\"The element {x} is found at index {result}\")\n",
        "else:\n",
        "    print(f\"The element {x} is not found in the array.\")"
      ],
      "metadata": {
        "colab": {
          "base_uri": "https://localhost:8080/"
        },
        "id": "hQju14SDZbOJ",
        "outputId": "52d95edb-075e-411d-b3a8-01f1f40ef8bb"
      },
      "execution_count": 2,
      "outputs": [
        {
          "output_type": "stream",
          "name": "stdout",
          "text": [
            "The element 14 is found at index 7\n"
          ]
        }
      ]
    },
    {
      "cell_type": "markdown",
      "source": [
        "# **Thanks!!**"
      ],
      "metadata": {
        "id": "XBOqCTOqZ1xS"
      }
    }
  ]
}